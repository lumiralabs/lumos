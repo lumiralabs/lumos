{
 "cells": [
  {
   "cell_type": "code",
   "execution_count": 15,
   "metadata": {},
   "outputs": [],
   "source": [
    "import os\n",
    "import book_parser\n",
    "import json\n",
    "\n",
    "os.environ[\"UNSTRUCTURED_API_KEY\"] = \"wPnp9uRPdSXKexOwECWEIU32yG5rfp\"\n",
    "os.environ[\"UNSTRUCTURED_API_URL\"] = \"https://api.unstructuredapp.io/general/v0/general\"\n"
   ]
  },
  {
   "cell_type": "code",
   "execution_count": 17,
   "metadata": {},
   "outputs": [],
   "source": [
    "from unstructured.partition.auto import partition\n",
    "\n",
    "pdf_path=\"./.dev/data/portfolio/portfolio.pdf\"\n",
    "# pdf_path = \"./.dev/output/asyncio.pdf\"\n",
    "# pdf_path=\"./.dev/data/asyncio/asyncio_clean.pdf\",\n",
    "# pdf_path=\"./.dev/output/asyncio.md\",\n",
    "book_elements = partition(\n",
    "    filename=pdf_path,\n",
    "    api_key=os.environ[\"UNSTRUCTURED_API_KEY\"],\n",
    "    partition_endpoint=os.environ[\"UNSTRUCTURED_API_URL\"],\n",
    "    partition_by_api=True,\n",
    "    # include_page_breaks=True,\n",
    "    include_metadata=True,\n",
    ")\n",
    "\n",
    "# Clean elements\n",
    "book_elements = [\n",
    "    element\n",
    "    for element in book_elements\n",
    "    if element.to_dict()[\"type\"] not in [\"Footer\", \"PageBreak\"]\n",
    "]\n",
    "\n",
    "\n",
    "metadata = book_parser.extract_pdf_metadata(pdf_path)\n",
    "sections = book_parser.get_section_hierarchy(pdf_path)\n",
    "chapters = book_parser.extract_chapters(sections)\n",
    "\n",
    "new_chapters = []\n",
    "for chapter in chapters:\n",
    "    chapter.elements = book_parser.get_elements_for_chapter(book_elements, chapter)\n",
    "    new_chapters.append(book_parser.partition_elements(chapter))\n",
    "\n",
    "book = book_parser.Book(metadata=metadata, sections=new_chapters)\n"
   ]
  },
  {
   "cell_type": "code",
   "execution_count": null,
   "metadata": {},
   "outputs": [],
   "source": [
    "book.toc()"
   ]
  },
  {
   "cell_type": "code",
   "execution_count": 6,
   "metadata": {},
   "outputs": [],
   "source": [
    "book_dict = book.model_dump()\n",
    "book_parser.recur_to_dict(book_dict)"
   ]
  },
  {
   "cell_type": "code",
   "execution_count": null,
   "metadata": {},
   "outputs": [],
   "source": [
    "book_dict['sections'][0]['elements']"
   ]
  },
  {
   "cell_type": "code",
   "execution_count": 7,
   "metadata": {},
   "outputs": [],
   "source": [
    "with open(\"book_dict.json\", \"w\") as f:\n",
    "    json.dump(book_dict, f, indent=2)\n"
   ]
  },
  {
   "cell_type": "markdown",
   "metadata": {},
   "source": [
    "## Chunks\n",
    "\n",
    "need to store metadata and original refs"
   ]
  },
  {
   "cell_type": "code",
   "execution_count": null,
   "metadata": {},
   "outputs": [],
   "source": [
    "# book_parser.view_chunks()\n",
    "book_str =\"\\n\\n\".join([element['text'] for element in book_dict['sections'][0]['elements']])\n",
    "print(book_str)"
   ]
  },
  {
   "cell_type": "code",
   "execution_count": null,
   "metadata": {},
   "outputs": [],
   "source": [
    "## generate content from the book\n",
    "from lumos import lumos\n",
    "from pydantic import BaseModel\n",
    "\n",
    "class BookContent(BaseModel):\n",
    "    content: str\n",
    "\n",
    "\n",
    "lumos.call_ai(\n",
    "    messages=[\n",
    "        {\"role\": \"system\", \"content\": \"You are a helpful assistant that can generate content from a book.\"},\n",
    "        {\"role\": \"user\", \"content\": f\"Generate a summary of the content:\\n {book_str}.\"},\n",
    "    ],\n",
    "    model=\"gpt-4o-mini\",\n",
    "    response_format=BookContent,\n",
    ")\n"
   ]
  },
  {
   "cell_type": "code",
   "execution_count": 8,
   "metadata": {},
   "outputs": [],
   "source": [
    "def get_leaf_sections(section) -> list[tuple[str, list]]:\n",
    "    \"\"\"Get all leaf sections (those without subsections) and their elements.\"\"\"\n",
    "    results = []\n",
    "    \n",
    "    if section.get('elements') and not section.get('subsections'):\n",
    "        # This is a leaf section - collect title and elements\n",
    "        ele_str = \"\\n\\n\".join([element['text'] for element in section['elements']])\n",
    "        results.append((section['title'], ele_str))\n",
    "    \n",
    "    # Recursively process subsections\n",
    "    if section.get('subsections'):\n",
    "        for subsection in section['subsections']:\n",
    "            results.extend(get_leaf_sections(subsection))\n",
    "            \n",
    "    return results\n",
    "\n",
    "# Get leaf sections from all root sections\n",
    "leaf_sections = []\n",
    "for section in book_dict['sections']:\n",
    "    leaf_sections.extend(get_leaf_sections(section))\n"
   ]
  },
  {
   "cell_type": "code",
   "execution_count": 9,
   "metadata": {},
   "outputs": [],
   "source": [
    "from lumos import lumos\n",
    "from pydantic import BaseModel, Field\n",
    "\n",
    "class LessonContent(BaseModel):\n",
    "    description: str = Field(..., description=\"One or two line description of the content. Get the most information across.\")\n",
    "    summary: str = Field(..., description=\"A concise summary of the content. Be to the point and concise.\")\n",
    "\n",
    "async def get_lesson_content(title, content):\n",
    "    input_str = \"\"\"Generate a summary of the content: \n",
    "    <Title>\n",
    "    {title}\n",
    "    </Title>\n",
    "\n",
    "    <Content>\n",
    "    {content}\n",
    "    </Content>\"\"\".format(title=title, content=content)\n",
    "\n",
    "    ret = await lumos.call_ai_async(\n",
    "        messages=[\n",
    "            {\"role\": \"system\", \"content\": \"You are a helpful assistant that will help me creating insightful lessons and summaries for technical books. You will be provided with a section of a book and you will need to generate a summary of the content. Be concise and to the point. \"},\n",
    "            {\"role\": \"user\", \"content\": input_str},\n",
    "        ],\n",
    "        model=\"gpt-4o\",\n",
    "        response_format=LessonContent,\n",
    "    )\n",
    "    return ret"
   ]
  },
  {
   "cell_type": "code",
   "execution_count": null,
   "metadata": {},
   "outputs": [],
   "source": [
    "# from rich.console import Console\n",
    "# from rich.panel import Panel\n",
    "# import nest_asyncio\n",
    "# import asyncio\n",
    "\n",
    "# nest_asyncio.apply()\n",
    "# console = Console()\n",
    "\n",
    "\n",
    "# tasks = [get_lesson_content(title, content) for title, content in leaf_sections]\n",
    "# results = asyncio.run(asyncio.gather(*tasks))\n",
    "\n",
    "for (title, content), lesson in zip(leaf_sections, results):\n",
    "    console.print()\n",
    "    console.print(Panel(\n",
    "        f\"[bold magenta]{title}[/bold magenta]\\n\\n\"\n",
    "    f\"[yellow]Description:[/yellow] {lesson.description}\\n\\n\"\n",
    "    f\"[green]Summary:[/green] {lesson.summary}\",\n",
    "    expand=True\n",
    "))\n",
    "\n"
   ]
  },
  {
   "cell_type": "code",
   "execution_count": 20,
   "metadata": {},
   "outputs": [],
   "source": [
    "## quiz gen"
   ]
  },
  {
   "cell_type": "code",
   "execution_count": 21,
   "metadata": {},
   "outputs": [],
   "source": [
    "from pydantic import BaseModel, Field\n",
    "from datetime import datetime\n",
    "from uuid import UUID\n",
    "from enum import Enum\n",
    "from typing import Any\n",
    "\n",
    "class DifficultyLevel(str, Enum):\n",
    "    EASY = \"Easy\"\n",
    "    INTERMEDIATE = \"Intermediate\"\n",
    "    ADVANCED = \"Advanced\"\n",
    "\n",
    "\n",
    "class QuizQuestionBase(BaseModel):\n",
    "    question: str\n",
    "    correct_answer: str\n",
    "    incorrect_answers: list[str] = Field(\n",
    "        ..., description=\"Must be a strictly a list of 3 items. \"\n",
    "    )\n",
    "    explanation: str = None\n",
    "    difficulty: DifficultyLevel\n",
    "    \n",
    "class QuizItems(BaseModel):\n",
    "    items: list[QuizQuestionBase]\n",
    "\n",
    "async def get_quiz_content(title, content):\n",
    "    input_str = \"\"\"Generate quiz questions based on the content: \n",
    "    <Title>\n",
    "    {title}\n",
    "    </Title>\n",
    "\n",
    "    <Content>\n",
    "    {content}\n",
    "    </Content>\"\"\".format(title=title, content=content)\n",
    "\n",
    "    ret = await lumos.call_ai_async(\n",
    "        messages=[\n",
    "            {\"role\": \"system\", \"content\": \"You are a helpful assistant that will help me creating insightful quizzes for technical books. You will be provided with a section of a book and you will need to generate a quiz based on the content. The quizzes must not be trivial, generate quizzes that are challenging and must require some thinking. It is not neccesary to generate a quiz, do so only if the content is worthy enough to generate a quiz. We do not want to generate low quality questions from chapters. Since, we are generating quizzes for all chapters, we want only the best.\"},\n",
    "            {\"role\": \"user\", \"content\": input_str},\n",
    "        ],\n",
    "        model=\"gpt-4o\",\n",
    "        response_format=QuizItems,\n",
    "    )\n",
    "    return ret"
   ]
  },
  {
   "cell_type": "code",
   "execution_count": null,
   "metadata": {},
   "outputs": [],
   "source": [
    "results"
   ]
  },
  {
   "cell_type": "code",
   "execution_count": null,
   "metadata": {},
   "outputs": [],
   "source": [
    "from rich.console import Console\n",
    "from rich.panel import Panel\n",
    "import nest_asyncio\n",
    "import asyncio\n",
    "\n",
    "nest_asyncio.apply()\n",
    "console = Console()\n",
    "\n",
    "\n",
    "# tasks = [get_quiz_content(title, content) for title, content in leaf_sections]\n",
    "# results = asyncio.run(asyncio.gather(*tasks))\n",
    "\n",
    "for (title, content), quiz in zip(leaf_sections, results):\n",
    "    console.print()\n",
    "    quiz_text = \"\"\n",
    "    for i, item in enumerate(quiz.items, 1):\n",
    "        quiz_text += f\"\\nQuestion {i}:\\n{item.question}\\n\"\n",
    "        quiz_text += f\"✓ Correct: {item.correct_answer}\\n\"\n",
    "        quiz_text += f\"✗ Incorrect:\\n\"\n",
    "        for wrong in item.incorrect_answers:\n",
    "            quiz_text += f\"  • {wrong}\\n\"\n",
    "        if item.explanation:\n",
    "            quiz_text += f\"\\nExplanation: {item.explanation}\\n\"\n",
    "        quiz_text += f\"Difficulty: {item.difficulty.value}\\n\"\n",
    "        \n",
    "    console.print(Panel(\n",
    "        f\"[bold magenta]{title}[/bold magenta]\\n\\n\"\n",
    "        f\"[yellow]Quiz Questions:[/yellow]{quiz_text}\",\n",
    "        expand=True\n",
    "    ))\n",
    "\n"
   ]
  },
  {
   "cell_type": "code",
   "execution_count": null,
   "metadata": {},
   "outputs": [],
   "source": [
    "res = []\n",
    "for quizitem in results:\n",
    "    for item in quizitem.items:\n",
    "        res.append(item.model_dump())\n",
    "\n",
    "res"
   ]
  },
  {
   "cell_type": "code",
   "execution_count": null,
   "metadata": {},
   "outputs": [],
   "source": [
    "res"
   ]
  },
  {
   "cell_type": "code",
   "execution_count": null,
   "metadata": {},
   "outputs": [],
   "source": []
  }
 ],
 "metadata": {
  "kernelspec": {
   "display_name": ".venv",
   "language": "python",
   "name": "python3"
  },
  "language_info": {
   "codemirror_mode": {
    "name": "ipython",
    "version": 3
   },
   "file_extension": ".py",
   "mimetype": "text/x-python",
   "name": "python",
   "nbconvert_exporter": "python",
   "pygments_lexer": "ipython3",
   "version": "3.12.5"
  }
 },
 "nbformat": 4,
 "nbformat_minor": 2
}
